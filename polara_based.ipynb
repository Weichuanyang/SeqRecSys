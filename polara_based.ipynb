{
 "cells": [
  {
   "cell_type": "code",
   "execution_count": 37,
   "metadata": {},
   "outputs": [],
   "source": [
    "from polara import RecommenderData\n",
    "from polara import SVDModel\n",
    "from polara import get_movielens_data\n",
    "from polara.tools.preprocessing import filter_sessions_by_length\n",
    "from polara.evaluation import evaluation_engine as ee\n",
    "import numpy as np\n",
    "\n",
    "from io import BytesIO\n",
    "import pandas as pd\n",
    "\n",
    "try:\n",
    "    from pandas.io.common import ZipFile\n",
    "except ImportError:\n",
    "    from zipfile import ZipFile"
   ]
  },
  {
   "cell_type": "code",
   "execution_count": 38,
   "metadata": {},
   "outputs": [],
   "source": [
    "\n",
    "\n",
    "def get_movielens_data(local_file=None, get_ratings=True, get_genres=False,\n",
    "                       split_genres=True, mdb_mapping=False):\n",
    "    '''Downloads movielens data and stores it in pandas dataframe.\n",
    "    '''\n",
    "    if not local_file:\n",
    "        # downloading data\n",
    "        from requests import get\n",
    "        zip_file_url = 'http://files.grouplens.org/datasets/movielens/ml-1m.zip'\n",
    "        zip_response = get(zip_file_url)\n",
    "        zip_contents = BytesIO(zip_response.content)\n",
    "    else:\n",
    "        zip_contents = local_file\n",
    "\n",
    "    ml_data = ml_genres = mapping = None\n",
    "    # loading data into memory\n",
    "    with ZipFile(zip_contents) as zfile:\n",
    "        zip_files = pd.Series(zfile.namelist())\n",
    "        zip_file = zip_files[zip_files.str.contains('ratings')].iat[0]\n",
    "        is_new_format = ('latest' in zip_file) or ('20m' in zip_file)\n",
    "        delimiter = ','\n",
    "        header = 0 if is_new_format else None\n",
    "        if get_ratings:\n",
    "            zdata = zfile.read(zip_file)\n",
    "            zdata = zdata.replace(b'::', delimiter.encode())\n",
    "            # makes data compatible with pandas c-engine\n",
    "            # returns string objects instead of bytes in that case\n",
    "            ml_data = pd.read_csv(BytesIO(zdata), sep=delimiter, header=header, engine='c',\n",
    "                                    names=['userid', 'movieid', 'rating', 'timestamp'],\n",
    "                                    usecols=['userid', 'movieid', 'rating','timestamp'])\n",
    "\n",
    "        if get_genres:\n",
    "            zip_file = zip_files[zip_files.str.contains('movies')].iat[0]\n",
    "            zdata =  zfile.read(zip_file)\n",
    "            if not is_new_format:\n",
    "                # make data compatible with pandas c-engine\n",
    "                # pandas returns string objects instead of bytes in that case\n",
    "                delimiter = '^'\n",
    "                zdata = zdata.replace(b'::', delimiter.encode())\n",
    "            genres_data = pd.read_csv(BytesIO(zdata), sep=delimiter, header=header,\n",
    "                                      engine='c', encoding='unicode_escape',\n",
    "                                      names=['movieid', 'movienm', 'genres'])\n",
    "\n",
    "            ml_genres = get_split_genres(genres_data) if split_genres else genres_data\n",
    "\n",
    "        if mdb_mapping and is_new_format:\n",
    "            # imdb and tmdb mapping - exists only in ml-latest or 20m datasets\n",
    "            zip_file = zip_files[zip_files.str.contains('links')].iat[0]\n",
    "            with zfile.open(zip_file) as zdata:\n",
    "                mapping = pd.read_csv(zdata, sep=',', header=0, engine='c',\n",
    "                                        names=['movieid', 'imdbid', 'tmdbid'])\n",
    "\n",
    "    res = [data for data in [ml_data, ml_genres, mapping] if data is not None]\n",
    "    if len(res)==1: res = res[0]\n",
    "    return res"
   ]
  },
  {
   "cell_type": "code",
   "execution_count": 39,
   "metadata": {},
   "outputs": [],
   "source": [
    "def remove_gaps(data):\n",
    "    data['movieid'] = ml_data.groupby('movieid', sort=False).grouper.group_info[0]\n",
    "    data['userid'] = ml_data.groupby('userid', sort=False).grouper.group_info[0]\n",
    "    return data"
   ]
  },
  {
   "cell_type": "code",
   "execution_count": 40,
   "metadata": {},
   "outputs": [],
   "source": [
    "def normalize_timestamp(x):\n",
    "    x[\"timestamp\"] = np.argsort(list(x[\"timestamp\"]))\n",
    "    return x\n",
    "\n",
    "def length_col(x):\n",
    "    x['timestamp'] = len(x)\n",
    "    return x\n",
    "\n",
    "def train_test_val_split(data):\n",
    "    \n",
    "    data = data.groupby(\"userid\").apply(normalize_timestamp)\n",
    "    lc = data.groupby(\"userid\").apply(length_col)\n",
    "    max_time_stamp = lc['timestamp']\n",
    "    timestamp = data['timestamp']\n",
    "    data_train = data[timestamp<max_time_stamp*0.9]\\\n",
    "                    .groupby(\"userid\").apply(normalize_timestamp)\n",
    "    data_val = data[(0.9*max_time_stamp<=timestamp)&(timestamp<0.95*max_time_stamp)]\\\n",
    "                    .groupby(\"userid\").apply(normalize_timestamp)\n",
    "    data_test = data[0.95*max_time_stamp<=timestamp]\\\n",
    "                    .groupby(\"userid\").apply(normalize_timestamp)\n",
    "    return data_train, data_val,data_test"
   ]
  },
  {
   "cell_type": "code",
   "execution_count": 48,
   "metadata": {},
   "outputs": [
    {
     "data": {
      "text/html": [
       "<div>\n",
       "<style scoped>\n",
       "    .dataframe tbody tr th:only-of-type {\n",
       "        vertical-align: middle;\n",
       "    }\n",
       "\n",
       "    .dataframe tbody tr th {\n",
       "        vertical-align: top;\n",
       "    }\n",
       "\n",
       "    .dataframe thead th {\n",
       "        text-align: right;\n",
       "    }\n",
       "</style>\n",
       "<table border=\"1\" class=\"dataframe\">\n",
       "  <thead>\n",
       "    <tr style=\"text-align: right;\">\n",
       "      <th></th>\n",
       "      <th>userid</th>\n",
       "      <th>movieid</th>\n",
       "      <th>rating</th>\n",
       "      <th>timestamp</th>\n",
       "    </tr>\n",
       "  </thead>\n",
       "  <tbody>\n",
       "    <tr>\n",
       "      <th>0</th>\n",
       "      <td>0</td>\n",
       "      <td>0</td>\n",
       "      <td>5.0</td>\n",
       "      <td>838985046</td>\n",
       "    </tr>\n",
       "    <tr>\n",
       "      <th>1</th>\n",
       "      <td>0</td>\n",
       "      <td>1</td>\n",
       "      <td>5.0</td>\n",
       "      <td>838983525</td>\n",
       "    </tr>\n",
       "    <tr>\n",
       "      <th>2</th>\n",
       "      <td>0</td>\n",
       "      <td>2</td>\n",
       "      <td>5.0</td>\n",
       "      <td>838983392</td>\n",
       "    </tr>\n",
       "    <tr>\n",
       "      <th>3</th>\n",
       "      <td>0</td>\n",
       "      <td>3</td>\n",
       "      <td>5.0</td>\n",
       "      <td>838983421</td>\n",
       "    </tr>\n",
       "    <tr>\n",
       "      <th>4</th>\n",
       "      <td>0</td>\n",
       "      <td>4</td>\n",
       "      <td>5.0</td>\n",
       "      <td>838983392</td>\n",
       "    </tr>\n",
       "  </tbody>\n",
       "</table>\n",
       "</div>"
      ],
      "text/plain": [
       "   userid  movieid  rating  timestamp\n",
       "0       0        0     5.0  838985046\n",
       "1       0        1     5.0  838983525\n",
       "2       0        2     5.0  838983392\n",
       "3       0        3     5.0  838983421\n",
       "4       0        4     5.0  838983392"
      ]
     },
     "execution_count": 48,
     "metadata": {},
     "output_type": "execute_result"
    }
   ],
   "source": [
    "ml_data = get_movielens_data(\"ml-10m.zip\")\n",
    "ml_data = remove_gaps(ml_data)"
   ]
  },
  {
   "cell_type": "code",
   "execution_count": 49,
   "metadata": {},
   "outputs": [],
   "source": [
    "ml_data_train, ml_data_val,ml_data_test = train_test_val_split(ml_data)"
   ]
  },
  {
   "cell_type": "code",
   "execution_count": 67,
   "metadata": {},
   "outputs": [],
   "source": [
    "um_ml_data_train, um_ml_data_val,um_ml_data_test =\\\n",
    "                    ml_data_train[[\"userid\",\"movieid\",\"rating\"]],\\\n",
    "                    ml_data_val[[\"userid\",\"movieid\",\"rating\"]],\\\n",
    "                    ml_data_test[[\"userid\",\"movieid\",\"rating\"]]"
   ]
  },
  {
   "cell_type": "code",
   "execution_count": 68,
   "metadata": {},
   "outputs": [],
   "source": [
    "ml_time_train, ml_time_val,ml_time_test =\\\n",
    "                    ml_data_train[[\"timestamp\"]],\\\n",
    "                    ml_data_val[[\"timestamp\"]],\\\n",
    "                    ml_data_test[[\"timestamp\"]]"
   ]
  },
  {
   "cell_type": "code",
   "execution_count": 77,
   "metadata": {},
   "outputs": [],
   "source": [
    "data_model = RecommenderData(None, 'userid', 'movieid', 'rating', seed=0)\n",
    "data_model.holdout_size = 1\n",
    "data_model.random_holdout = False\n",
    "data_model.warm_start = False\n",
    "data_model.permute_tops = False"
   ]
  },
  {
   "cell_type": "code",
   "execution_count": 75,
   "metadata": {},
   "outputs": [
    {
     "name": "stdout",
     "output_type": "stream",
     "text": [
      "Preparing data...\n",
      "Done.\n"
     ]
    }
   ],
   "source": [
    "data_model.prepare_training_only()"
   ]
  },
  {
   "cell_type": "code",
   "execution_count": null,
   "metadata": {},
   "outputs": [],
   "source": [
    "class RecurentModel(RecommenderModel):\n",
    "    def __init__(self, train ,*args, **kwargs):\n",
    "        super(RecurentModel, self).__init__(None, 'userid', 'movieid', 'rating', *args, **kwargs)\n",
    "        \n",
    "        self.method = 'RecommenderModel' # pick some meaningful name\n",
    "\n",
    "    def build(self):\n",
    "        # build model - calculate item-to-item matrix\n",
    "        user_item_matrix = self.get_training_matrix()\n",
    "        # rating matrix product  R^T R  gives cooccurrences count\n",
    "        i2i_matrix = user_item_matrix.T.dot(user_item_matrix) # gives CSC format\n",
    "        # exclude \"self-links\" and ensure only non-zero elements are stored\n",
    "        i2i_matrix.setdiag(0)\n",
    "        i2i_matrix.eliminate_zeros()\n",
    "        # store matrix for generating recommendations\n",
    "        self.i2i_matrix = i2i_matrix\n",
    "\n",
    "    def get_recommendations(self):\n",
    "        # get test users information and generate top-k recommendations\n",
    "        test_matrix, test_data = self.get_test_matrix()\n",
    "        # calculate predicted scores\n",
    "        i2i_scores = test_matrix.dot(self.i2i_matrix)\n",
    "        # prevent seen items from appearing in recommendations\n",
    "        if self.filter_seen:\n",
    "            self.downvote_seen_items(i2i_scores, test_data)\n",
    "        # generate top-k recommendations for every test user\n",
    "        top_recs = self.get_topk_elements(i2i_scores)\n",
    "        return top_recs"
   ]
  },
  {
   "cell_type": "code",
   "execution_count": 102,
   "metadata": {},
   "outputs": [
    {
     "data": {
      "text/plain": [
       "matrix([[0., 0., 0., 0.],\n",
       "        [0., 0., 0., 0.],\n",
       "        [0., 0., 0., 0.],\n",
       "        [0., 0., 0., 3.]])"
      ]
     },
     "execution_count": 102,
     "metadata": {},
     "output_type": "execute_result"
    }
   ],
   "source": [
    "import scipy as sp\n",
    "sp.sparse.csr_matrix((np.ones(3),\n",
    "                                   ([3,3,3],[3,3,3])),\n",
    "                                    shape=(4,4), dtype=np.float64).todense()"
   ]
  },
  {
   "cell_type": "code",
   "execution_count": null,
   "metadata": {},
   "outputs": [],
   "source": [
    "# size(rec_input) = #time_steps\n",
    "# size(user) = 1\n",
    "# size(ordered_rec_list) = time_steps X #items\n",
    "for (user, ordered_rec_list), true_consumption_list in zip(rec_outputs,rec_inputs):\n",
    "    true_consumption = true_consumption_list[-2]\n",
    "    recommended_consumption = ordered_rec_list[-1]\n",
    "    MRR_score = MRR@k(true_consumption,recommended_consumption,k)\n",
    "    recall_score = recall@k = (true_consumption,recommended_consumption,k)\n",
    "    MRR_scores.append(MRR_score)\n",
    "    recall_scores.append(recall_score)\n",
    "recall = mean(recall_scores)\n",
    "MRR = mean(MRR_score)\n",
    "return MRR,recall\n"
   ]
  }
 ],
 "metadata": {
  "kernelspec": {
   "display_name": "Python 3",
   "language": "python",
   "name": "python3"
  },
  "language_info": {
   "codemirror_mode": {
    "name": "ipython",
    "version": 3
   },
   "file_extension": ".py",
   "mimetype": "text/x-python",
   "name": "python",
   "nbconvert_exporter": "python",
   "pygments_lexer": "ipython3",
   "version": "3.5.2"
  }
 },
 "nbformat": 4,
 "nbformat_minor": 2
}
