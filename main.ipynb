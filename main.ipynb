{
 "cells": [
  {
   "cell_type": "markdown",
   "metadata": {},
   "source": [
    "### 1. Linear User Integration"
   ]
  },
  {
   "cell_type": "code",
   "execution_count": 1,
   "metadata": {},
   "outputs": [],
   "source": [
    "import torch, torch.nn as nn\n",
    "import torch.nn.functional as F\n",
    "from torch.autograd import Variable\n",
    "import numpy as np\n",
    "\n",
    "class LinearGRU(nn.Module):\n",
    "    def __init__(self, n_users,n_items, emb_size=None, hidden_units=1000,dropout = 0):\n",
    "        super(self.__class__, self).__init__()\n",
    "        self.n_users = n_users\n",
    "        self.n_items = n_items\n",
    "        if emb_size == None:\n",
    "            emb_size = hidden_units\n",
    "        self.emb_size = emb_size\n",
    "        ## todo why embeding?\n",
    "        self.user_emb = nn.Embedding(n_users,emb_size)\n",
    "        self.item_emb = nn.Embedding(n_items,emb_size)\n",
    "        self.gru = nn.GRU(input_size = emb_size*2,hidden_size = hidden_units,dropout = dropout,batch_first=True)\n",
    "        self.linear = nn.Linear(hidden_units,n_items)\n",
    "        \n",
    "    def forward(self, user_vectors, item_vectors):\n",
    "        \n",
    "        user_vectors = user_vectors\n",
    "        item_vectors = item_vectors\n",
    "        sequence_size = user_vectors.size()[1]\n",
    "        \n",
    "        users = self.user_emb(user_vectors)#.view(-1,sequence_size,self.emb_size)\n",
    "        items = self.item_emb(item_vectors)#.view(-1,sequence_size,self.emb_size)\n",
    "\n",
    "        gru_output,_ = self.gru(torch.cat([users,items],dim=-1))\n",
    "        output_ln = self.linear(gru_output)\n",
    "        output = F.log_softmax(output_ln, dim=-1)\n",
    "        return output\n",
    "    \n"
   ]
  },
  {
   "cell_type": "code",
   "execution_count": 2,
   "metadata": {},
   "outputs": [],
   "source": [
    "# device = torch.device(\"cuda:7\" if torch.cuda.is_available() else \"cpu\")\n",
    "# #device = torch.device(\"cpu\")\n",
    "# network = LinearGRU(n_users=3,n_items=3,emb_size=20).to(device)\n",
    "# users = np.array([[1,1,1,1]])\n",
    "# items = np.array([[0,1,2,1]])\n",
    "# pred = network(Variable(torch.LongTensor(users)).to(device),Variable(torch.LongTensor(items)).to(device))\n",
    "# pred.size()"
   ]
  },
  {
   "cell_type": "markdown",
   "metadata": {},
   "source": [
    "### Movie Lens Prerocessing"
   ]
  },
  {
   "cell_type": "code",
   "execution_count": 3,
   "metadata": {},
   "outputs": [],
   "source": [
    "# Libraries and provided functions\n",
    "import pandas as pd\n",
    "import zipfile\n",
    "import wget\n",
    "from io import StringIO \n",
    "import numpy as np\n",
    "import scipy as sp\n",
    "from scipy import sparse\n",
    "import scipy.sparse.linalg\n",
    "from tqdm import tqdm # Very useful library to see progress bar during range iterations: just type `for i in tqdm(range(10)):`\n",
    "from matplotlib import pyplot as plt\n",
    "%matplotlib inline\n",
    "\n",
    "from collections import namedtuple\n",
    "import sys\n",
    "\n",
    "def move_timestamps_to_end(x,max_order):\n",
    "    new_order = x.groupby('timestamp', sort=True).grouper.group_info[0]\n",
    "    x[\"timestamp\"] = (max_order - new_order.max())+new_order\n",
    "    return x\n",
    "\n",
    "def normalize_timestamp(x):\n",
    "    x[\"timestamp\"] = x.groupby(['timestamp','movieid'], sort=True).grouper.group_info[0]\n",
    "    return x\n",
    "\n",
    "def set_timestamp_length(x):\n",
    "    x['length'] = len(x)\n",
    "    return x\n",
    "\n",
    "\n",
    "def to_matrices(ml_data):\n",
    "    ml_data = split_by_groups(ml_data)\n",
    "    \n",
    "    ml_data_max_order = ml_data['timestamp'].max()\n",
    "    ml_data = ml_data.groupby(\"index\").apply(move_timestamps_to_end,ml_data_max_order)\n",
    "\n",
    "    data_shape = ml_data[['index', 'timestamp']].max()+1\n",
    "    data_matrix = sp.sparse.csr_matrix((ml_data['movieid'],\n",
    "                                   (ml_data['index'], ml_data['timestamp'])),\n",
    "                                    shape=data_shape, dtype=np.float64).todense()\n",
    "    mask_matrix = sp.sparse.csr_matrix((np.ones(len(ml_data)),\n",
    "                                   (ml_data['index'], ml_data['timestamp'])),\n",
    "                                    shape=data_shape, dtype=np.float64).todense()\n",
    "    \n",
    "    ml_data_users = ml_data.drop_duplicates(['index'])\n",
    "    user_data_shape = ml_data_users['index'].max()+1\n",
    "    user_vector = sp.sparse.csr_matrix((ml_data_users['userid'],\n",
    "                                   (ml_data_users['index'],np.zeros(user_data_shape))),\n",
    "                                    shape=(user_data_shape,1), dtype=np.float64).todense()\n",
    "    user_matrix = np.tile(user_vector,(1,data_shape[1]))\n",
    "    return data_matrix, mask_matrix, user_matrix\n",
    "\n",
    "def train_val_test_split(ml_data):\n",
    "    ml_data = ml_data.groupby(\"userid\").apply(set_timestamp_length)\n",
    "    max_time_stamp = ml_data['length']\n",
    "    timestamp = ml_data['timestamp']\n",
    "    ml_data_train = ml_data[timestamp<max_time_stamp*0.9].groupby(\"userid\").apply(normalize_timestamp)\n",
    "    ml_data_val = ml_data[(0.9*max_time_stamp<=timestamp)&(timestamp<0.95*max_time_stamp)]\\\n",
    "                                                            .groupby(\"userid\").apply(normalize_timestamp)\n",
    "    ml_data_test = ml_data[0.95*max_time_stamp<=timestamp].groupby(\"userid\").apply(normalize_timestamp)\n",
    "    return ml_data_train, ml_data_val, ml_data_test\n",
    "\n",
    "def split_by_groups(ml_data,group_length=20):\n",
    "    ml_data[\"group\"] = ml_data['timestamp']//group_length\n",
    "    ml_data[\"timestamp\"] = ml_data['timestamp']%group_length\n",
    "    ml_data[\"index\"] = ml_data.groupby(['userid','group'], sort=False).grouper.group_info[0]\n",
    "    return ml_data\n",
    "\n",
    "def get_movielens_data(local_file=None):\n",
    "    '''Downloads movielens data, normalizes users, timesteps and movies ids,\n",
    "    returns data in sparse CSR format.\n",
    "    '''\n",
    "    if not local_file:\n",
    "        print('Downloading data...')\n",
    "        zip_file_url = 'http://files.grouplens.org/datasets/movielens/ml-10m.zip'\n",
    "        zip_contents = wget.download(zip_file_url)\n",
    "        print('Done.')\n",
    "    else:\n",
    "        zip_contents = local_file\n",
    "    \n",
    "    print('Loading data into memory...')\n",
    "    with zipfile.ZipFile(\"ml-10m.zip\") as zfile:\n",
    "        zdata = zfile.read('ml-10M100K/ratings.dat').decode()\n",
    "        delimiter = ';'\n",
    "        zdata = zdata.replace('::', delimiter) # makes data compatible with pandas c-engine\n",
    "        ml_data = pd.read_csv(StringIO(zdata), sep=delimiter, header=None, engine='c',\n",
    "                                  names=['userid', 'movieid' ,'rating','timestamp'],\n",
    "                                  usecols=['userid', 'movieid','rating','timestamp'])\n",
    "\n",
    "    print(\"Normalizing indices to avoid gaps\")\n",
    "\n",
    "    # normalize indices to avoid gaps\n",
    "    ml_data['movieid'] = ml_data.groupby('movieid', sort=False).grouper.group_info[0]\n",
    "    ml_data['userid'] = ml_data.groupby('userid', sort=False).grouper.group_info[0]\n",
    "    ml_data = ml_data.groupby(\"userid\").apply(normalize_timestamp)\n",
    "\n",
    "    # build sparse user-movie matrix\n",
    "    print(\"Splitting into train, validation and test parts\")\n",
    "    \n",
    "    ml_data_train, ml_data_val, ml_data_test = train_val_test_split(ml_data)\n",
    "        \n",
    "    train_items, train_mask, train_users= to_matrices(ml_data_train.copy())\n",
    "    val_items, val_mask, val_users = to_matrices(ml_data_val.copy())\n",
    "    test_items, test_mask, test_users = to_matrices(ml_data_test.copy())\n",
    "    \n",
    "    print('Done.')\n",
    "    return (train_items, train_mask, train_users),\\\n",
    "           (val_items, val_mask, val_users),\\\n",
    "           (test_items, test_mask, test_users)\n",
    "\n"
   ]
  },
  {
   "cell_type": "code",
   "execution_count": 102,
   "metadata": {},
   "outputs": [
    {
     "name": "stdout",
     "output_type": "stream",
     "text": [
      "Loading data into memory...\n",
      "Normalizing indices to avoid gaps\n",
      "Splitting into train, validation and test parts\n",
      "Done.\n"
     ]
    }
   ],
   "source": [
    "(train_items, train_mask,train_users),\\\n",
    "(val_items, val_mask,val_users),\\\n",
    "(test_items, test_mask,test_users) = get_movielens_data(\"ml-10m.zip\")\n",
    "\n",
    "np.save(\"train_items\",train_items)\n",
    "np.save('train_mask',train_mask)\n",
    "np.save('train_users',train_users)\n",
    "np.save('val_items',val_items)\n",
    "np.save('val_mask',val_mask)\n",
    "np.save('val_users',val_users)\n",
    "np.save('test_items',test_items)\n",
    "np.save('test_mask',test_mask)\n",
    "np.save('test_users',test_users)"
   ]
  },
  {
   "cell_type": "code",
   "execution_count": 4,
   "metadata": {},
   "outputs": [],
   "source": [
    "\n",
    "train_items = np.load(\"train_items.npy\")\n",
    "train_mask = np.load(\"train_mask.npy\")\n",
    "train_users = np.load(\"train_users.npy\")\n",
    "val_items = np.load(\"val_items.npy\")\n",
    "val_mask = np.load(\"val_mask.npy\")\n",
    "val_users = np.load(\"val_users.npy\")\n",
    "test_items = np.load(\"test_items.npy\")\n",
    "test_mask = np.load(\"test_mask.npy\")\n",
    "test_users = np.load(\"test_users.npy\")"
   ]
  },
  {
   "cell_type": "markdown",
   "metadata": {},
   "source": [
    "### Training on MovieLens"
   ]
  },
  {
   "cell_type": "code",
   "execution_count": 28,
   "metadata": {},
   "outputs": [
    {
     "data": {
      "text/plain": [
       "890"
      ]
     },
     "execution_count": 28,
     "metadata": {},
     "output_type": "execute_result"
    }
   ],
   "source": [
    "import gc\n",
    "torch.cuda.empty_cache()\n",
    "gc.collect() "
   ]
  },
  {
   "cell_type": "code",
   "execution_count": 42,
   "metadata": {},
   "outputs": [],
   "source": [
    "\n",
    "device = torch.device(\"cuda:0\" if torch.cuda.is_available() else \"cpu\")\n",
    "# device = torch.device(\"cpu\")\n",
    "n_users = int(test_users.max()+1)\n",
    "n_items = int(np.max([train_items.max()+1,val_items.max()+1,test_items.max()])+1)\n",
    "network = LinearGRU(n_users=n_users,n_items=n_items).to(device)"
   ]
  },
  {
   "cell_type": "code",
   "execution_count": 43,
   "metadata": {},
   "outputs": [],
   "source": [
    "import torch.utils.data\n",
    "opt = torch.optim.Adam(network.parameters(),lr =0.001)\n",
    "\n",
    "history = []\n",
    "\n",
    "train_loader = torch.utils.data.DataLoader(\\\n",
    "            torch.utils.data.TensorDataset(\\\n",
    "            *(torch.LongTensor(train_users),torch.LongTensor(train_items),torch.FloatTensor(train_mask))),\\\n",
    "            batch_size=100,shuffle=True)\n",
    "\n",
    "val_loader = torch.utils.data.DataLoader(\\\n",
    "            torch.utils.data.TensorDataset(\\\n",
    "            *(torch.LongTensor(val_users),torch.LongTensor(val_items),torch.FloatTensor(val_mask))),\\\n",
    "            batch_size=100,shuffle=True)"
   ]
  },
  {
   "cell_type": "code",
   "execution_count": 44,
   "metadata": {},
   "outputs": [
    {
     "data": {
      "image/png": "[encoded data removed]",
      "text/plain": [
       "<Figure size 432x288 with 1 Axes>"
      ]
     },
     "metadata": {},
     "output_type": "display_data"
    },
    {
     "ename": "KeyboardInterrupt",
     "evalue": "",
     "output_type": "error",
     "traceback": [
      "\u001b[0;31m---------------------------------------------------------------------------\u001b[0m",
      "\u001b[0;31mKeyboardInterrupt\u001b[0m                         Traceback (most recent call last)",
      "\u001b[0;32m<ipython-input-44-4805c2d7a19f>\u001b[0m in \u001b[0;36m<module>\u001b[0;34m()\u001b[0m\n\u001b[1;32m     46\u001b[0m         \u001b[0;31m# train with backprop\u001b[0m\u001b[0;34m\u001b[0m\u001b[0;34m\u001b[0m\u001b[0m\n\u001b[1;32m     47\u001b[0m         \u001b[0mopt\u001b[0m\u001b[0;34m.\u001b[0m\u001b[0mzero_grad\u001b[0m\u001b[0;34m(\u001b[0m\u001b[0;34m)\u001b[0m\u001b[0;34m\u001b[0m\u001b[0m\n\u001b[0;32m---> 48\u001b[0;31m         \u001b[0mloss\u001b[0m\u001b[0;34m.\u001b[0m\u001b[0mbackward\u001b[0m\u001b[0;34m(\u001b[0m\u001b[0;34m)\u001b[0m\u001b[0;34m\u001b[0m\u001b[0m\n\u001b[0m\u001b[1;32m     49\u001b[0m \u001b[0;34m\u001b[0m\u001b[0m\n\u001b[1;32m     50\u001b[0m         \u001b[0mopt\u001b[0m\u001b[0;34m.\u001b[0m\u001b[0mstep\u001b[0m\u001b[0;34m(\u001b[0m\u001b[0;34m)\u001b[0m\u001b[0;34m\u001b[0m\u001b[0m\n",
      "\u001b[0;32m/usr/local/lib/python3.5/dist-packages/torch/tensor.py\u001b[0m in \u001b[0;36mbackward\u001b[0;34m(self, gradient, retain_graph, create_graph)\u001b[0m\n\u001b[1;32m     91\u001b[0m                 \u001b[0mproducts\u001b[0m\u001b[0;34m.\u001b[0m \u001b[0mDefaults\u001b[0m \u001b[0mto\u001b[0m\u001b[0;31m \u001b[0m\u001b[0;31m`\u001b[0m\u001b[0;31m`\u001b[0m\u001b[0;32mFalse\u001b[0m\u001b[0;31m`\u001b[0m\u001b[0;31m`\u001b[0m\u001b[0;34m.\u001b[0m\u001b[0;34m\u001b[0m\u001b[0m\n\u001b[1;32m     92\u001b[0m         \"\"\"\n\u001b[0;32m---> 93\u001b[0;31m         \u001b[0mtorch\u001b[0m\u001b[0;34m.\u001b[0m\u001b[0mautograd\u001b[0m\u001b[0;34m.\u001b[0m\u001b[0mbackward\u001b[0m\u001b[0;34m(\u001b[0m\u001b[0mself\u001b[0m\u001b[0;34m,\u001b[0m \u001b[0mgradient\u001b[0m\u001b[0;34m,\u001b[0m \u001b[0mretain_graph\u001b[0m\u001b[0;34m,\u001b[0m \u001b[0mcreate_graph\u001b[0m\u001b[0;34m)\u001b[0m\u001b[0;34m\u001b[0m\u001b[0m\n\u001b[0m\u001b[1;32m     94\u001b[0m \u001b[0;34m\u001b[0m\u001b[0m\n\u001b[1;32m     95\u001b[0m     \u001b[0;32mdef\u001b[0m \u001b[0mregister_hook\u001b[0m\u001b[0;34m(\u001b[0m\u001b[0mself\u001b[0m\u001b[0;34m,\u001b[0m \u001b[0mhook\u001b[0m\u001b[0;34m)\u001b[0m\u001b[0;34m:\u001b[0m\u001b[0;34m\u001b[0m\u001b[0m\n",
      "\u001b[0;32m/usr/local/lib/python3.5/dist-packages/torch/autograd/__init__.py\u001b[0m in \u001b[0;36mbackward\u001b[0;34m(tensors, grad_tensors, retain_graph, create_graph, grad_variables)\u001b[0m\n\u001b[1;32m     87\u001b[0m     Variable._execution_engine.run_backward(\n\u001b[1;32m     88\u001b[0m         \u001b[0mtensors\u001b[0m\u001b[0;34m,\u001b[0m \u001b[0mgrad_tensors\u001b[0m\u001b[0;34m,\u001b[0m \u001b[0mretain_graph\u001b[0m\u001b[0;34m,\u001b[0m \u001b[0mcreate_graph\u001b[0m\u001b[0;34m,\u001b[0m\u001b[0;34m\u001b[0m\u001b[0m\n\u001b[0;32m---> 89\u001b[0;31m         allow_unreachable=True)  # allow_unreachable flag\n\u001b[0m\u001b[1;32m     90\u001b[0m \u001b[0;34m\u001b[0m\u001b[0m\n\u001b[1;32m     91\u001b[0m \u001b[0;34m\u001b[0m\u001b[0m\n",
      "\u001b[0;31mKeyboardInterrupt\u001b[0m: "
     ]
    }
   ],
   "source": [
    "import torch.utils.data\n",
    "from IPython.display import clear_output\n",
    "\n",
    "\n",
    "\n",
    "def validate_lce(network):\n",
    "    network.eval()\n",
    "    losses = []\n",
    "    with torch.no_grad():\n",
    "        for user_batch_ix,item_batch_ix, mask_batch_ix in val_loader:\n",
    "\n",
    "            user_batch_ix = Variable(user_batch_ix).to(device)\n",
    "            item_batch_ix = Variable(item_batch_ix).to(device)\n",
    "            mask_batch_ix = Variable(mask_batch_ix).to(device)\n",
    "\n",
    "            logp_seq = network(user_batch_ix, item_batch_ix)\n",
    "            # compute loss\n",
    "            predictions_logp = logp_seq[:, :-1]*mask_batch_ix[:, :-1,None]\n",
    "            actual_next_tokens = item_batch_ix[:, 1:]\n",
    "\n",
    "            logp_next = torch.gather(predictions_logp, dim=2, index=actual_next_tokens[:,:,None])\n",
    "            loss = -logp_next.sum()/mask_batch_ix[:, :-1].sum()\n",
    "            losses.append(loss.cpu().data.numpy())\n",
    "    torch.cuda.empty_cache()\n",
    "    gc.collect() \n",
    "    return np.mean(losses)\n",
    "\n",
    "\n",
    "\n",
    "for epoch in range(100):\n",
    "    i=0\n",
    "    for user_batch_ix,item_batch_ix, mask_batch_ix in train_loader:\n",
    "        network.train()\n",
    "        user_batch_ix = Variable(user_batch_ix).to(device)\n",
    "        item_batch_ix = Variable(item_batch_ix).to(device)\n",
    "        mask_batch_ix = Variable(mask_batch_ix).to(device)\n",
    "\n",
    "        logp_seq = network(user_batch_ix, item_batch_ix)\n",
    "        # compute loss\n",
    "        predictions_logp = logp_seq[:, :-1]*mask_batch_ix[:, :-1,None]\n",
    "        actual_next_tokens = item_batch_ix[:, 1:]\n",
    "\n",
    "        logp_next = torch.gather(predictions_logp, dim=2, index=actual_next_tokens[:,:,None])\n",
    "        loss = -logp_next.sum()/mask_batch_ix[:, :-1].sum()\n",
    "\n",
    "        # train with backprop\n",
    "        opt.zero_grad()\n",
    "        loss.backward()\n",
    "\n",
    "        opt.step()\n",
    "\n",
    "        if (i+1)%500==0:\n",
    "            val_loss = validate_lce(network)\n",
    "            history.append(val_loss)\n",
    "\n",
    "            clear_output(True)\n",
    "            plt.title(\"Validation error\")\n",
    "            plt.plot(history)\n",
    "            plt.ylabel('Cross-entropy Error')\n",
    "            plt.xlabel('#iter')\n",
    "            plt.show()\n",
    "        i+=1\n",
    "\n",
    "val_loss = validate_lce(network)\n",
    "history.append(val_loss)\n",
    "\n",
    "clear_output(True)\n",
    "plt.plot(history,label='val loss')\n",
    "plt.legend()\n",
    "plt.show()\n"
   ]
  },
  {
   "cell_type": "code",
   "execution_count": 39,
   "metadata": {},
   "outputs": [],
   "source": [
    "def validate_mrr(network,k):\n",
    "    network.eval()\n",
    "    losses = []\n",
    "    with torch.no_grad():\n",
    "        for user_batch_ix,item_batch_ix, mask_batch_ix in test_loader:\n",
    "            user_batch_ix = Variable(user_batch_ix).to(device)\n",
    "            item_batch_ix = Variable(item_batch_ix).to(device)\n",
    "            mask_batch_ix = Variable(mask_batch_ix).to(device)\n",
    "\n",
    "            logp_seq = network(user_batch_ix, item_batch_ix)\n",
    "            # compute loss\n",
    "            predictions_logp = logp_seq[:,-2]\n",
    "            _,ind = torch.topk(predictions_logp, k,dim=-1)\n",
    "            mrr = torch.zeros(predictions_logp.size())\n",
    "            mrr.scatter_(-1,ind.cpu(),1/torch.range(1,k).repeat(*ind.size()[:-1],1).type(torch.FloatTensor).cpu())\n",
    "            actual_next_tokens = item_batch_ix[:, -1]\n",
    "\n",
    "            logp_next = torch.gather(mrr.to(device)*mask_batch_ix[:, -2,None], dim=1, index=actual_next_tokens[:,None])\n",
    "#             if mask_batch_ix[:,-2].sum() >0:\n",
    "            loss = logp_next.sum()/mask_batch_ix[:,-2].sum()\n",
    "            losses.append(loss.cpu().data.numpy())\n",
    "            torch.cuda.empty_cache()\n",
    "            gc.collect() \n",
    "\n",
    "    return np.mean(losses)\n",
    "\n",
    "def validate_recall(network,k):\n",
    "    torch.cuda.empty_cache()\n",
    "    gc.collect() \n",
    "    \n",
    "    network.eval()\n",
    "    losses = []\n",
    "    with torch.no_grad():\n",
    "        for user_batch_ix,item_batch_ix, mask_batch_ix in test_loader:\n",
    "            user_batch_ix = Variable(user_batch_ix).to(device)\n",
    "            item_batch_ix = Variable(item_batch_ix).to(device)\n",
    "            mask_batch_ix = Variable(mask_batch_ix).to(device)\n",
    "\n",
    "            logp_seq = network(user_batch_ix, item_batch_ix)\n",
    "            # compute loss\n",
    "            predictions_logp = logp_seq[:, -2]\n",
    "            minus_kth_biggest_logp,_ = torch.kthvalue(-predictions_logp.cpu(), k,dim=-1,keepdim=True)\n",
    "            prediicted_kth_biggest = (predictions_logp>(-minus_kth_biggest_logp.to(device)))\\\n",
    "                                        .type(torch.FloatTensor).to(device)\n",
    "            actual_next_tokens = item_batch_ix[:, -1]\n",
    "\n",
    "            logp_next = torch.gather(prediicted_kth_biggest*mask_batch_ix[:, -2,None], dim=1, index=actual_next_tokens[:,None])\n",
    "            loss = logp_next.sum()/mask_batch_ix[:,-2].sum()\n",
    "            losses.append(loss.cpu().data.numpy())\n",
    "    torch.cuda.empty_cache()\n",
    "    gc.collect() \n",
    "    return np.mean(losses)"
   ]
  },
  {
   "cell_type": "code",
   "execution_count": 41,
   "metadata": {},
   "outputs": [
    {
     "name": "stdout",
     "output_type": "stream",
     "text": [
      "MRR score for Linear User-based GRU:  0.053085506\n",
      "Recall score for Linear User-based GRU:  0.16474381\n"
     ]
    }
   ],
   "source": [
    "linear_mrr_score = validate_mrr(network,20)\n",
    "print(\"MRR score for Linear User-based GRU: \",linear_mrr_score)\n",
    "linear_recall_score = validate_recall(network,20)\n",
    "print(\"Recall score for Linear User-based GRU: \",linear_recall_score)"
   ]
  },
  {
   "cell_type": "code",
   "execution_count": null,
   "metadata": {},
   "outputs": [],
   "source": []
  }
 ],
 "metadata": {
  "kernelspec": {
   "display_name": "Python 3",
   "language": "python",
   "name": "python3"
  },
  "language_info": {
   "codemirror_mode": {
    "name": "ipython",
    "version": 3
   },
   "file_extension": ".py",
   "mimetype": "text/x-python",
   "name": "python",
   "nbconvert_exporter": "python",
   "pygments_lexer": "ipython3",
   "version": "3.5.2"
  }
 },
 "nbformat": 4,
 "nbformat_minor": 2
}
