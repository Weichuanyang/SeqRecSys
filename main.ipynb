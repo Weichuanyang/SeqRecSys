{
 "cells": [
  {
   "cell_type": "markdown",
   "metadata": {},
   "source": [
    "### 1. Linear User-based GRU"
   ]
  },
  {
   "cell_type": "code",
   "execution_count": 2,
   "metadata": {},
   "outputs": [],
   "source": [
    "import torch, torch.nn as nn\n",
    "import torch.nn.functional as F\n",
    "from torch.autograd import Variable\n",
    "import numpy as np\n",
    "import matplotlib.pyplot as plt\n",
    "\n",
    "class LinearGRU(nn.Module):\n",
    "    def __init__(self, n_users,n_items, emb_size=None, hidden_units=1000,dropout = 0.8,user_dropout = 0.5):\n",
    "        super(self.__class__, self).__init__()\n",
    "        self.n_users = n_users\n",
    "        self.n_items = n_items\n",
    "        self.hidden_units = hidden_units\n",
    "        if emb_size == None:\n",
    "            emb_size = hidden_units\n",
    "        self.emb_size = emb_size\n",
    "        ## todo why embeding?\n",
    "        self.user_emb = nn.Embedding(n_users,emb_size)\n",
    "        self.item_emb = nn.Embedding(n_items,emb_size)\n",
    "        self.grucell = nn.GRUCell(input_size = emb_size*2,hidden_size = hidden_units)\n",
    "        self.linear = nn.Linear(hidden_units,n_items)\n",
    "        self.dropout = nn.Dropout(dropout)\n",
    "        self.user_dropout = nn.Dropout(user_dropout)\n",
    "        \n",
    "    def forward(self, user_vectors, item_vectors):\n",
    "        \n",
    "        batch_size,_ = user_vectors.size()\n",
    "        user_vectors = user_vectors\n",
    "        item_vectors = item_vectors\n",
    "        sequence_size = user_vectors.size()[1]\n",
    "        \n",
    "        users = self.user_dropout(self.user_emb(user_vectors))#.view(-1,sequence_size,self.emb_size)\n",
    "        items = self.item_emb(item_vectors)#.view(-1,sequence_size,self.emb_size)\n",
    "        \n",
    "        h = torch.zeros(batch_size,self.hidden_units).to(device)\n",
    "        h_t = h.unsqueeze(0)\n",
    "        for i in range(sequence_size):\n",
    "            gru_input = torch.cat([users[:,i,:],items[:,i,:]],dim=-1)\n",
    "            h = self.grucell(gru_input,h)\n",
    "            h_t = torch.cat([h_t,h.unsqueeze(0)],dim=0)\n",
    "        ln_input = self.dropout(h_t[1:].transpose(0,1))\n",
    "        \n",
    "        output_ln = self.linear(ln_input)\n",
    "        output = F.log_softmax(output_ln, dim=-1)\n",
    "        return output\n",
    "    \n"
   ]
  },
  {
   "cell_type": "markdown",
   "metadata": {},
   "source": [
    "### 2. Rectified Linear User-based GRU"
   ]
  },
  {
   "cell_type": "code",
   "execution_count": 2,
   "metadata": {},
   "outputs": [],
   "source": [
    "from torch.nn.parameter import Parameter\n",
    "class RectifiedLinearGRU(nn.Module):\n",
    "\n",
    "    def __init__(self, n_users,n_items, emb_size=None, hidden_units=1000,dropout = 0.8,user_dropout = 0.5):\n",
    "        super(self.__class__, self).__init__()\n",
    "        self.n_users = n_users\n",
    "        self.n_items = n_items\n",
    "        self.hidden_units = hidden_units\n",
    "        if emb_size == None:\n",
    "            emb_size = hidden_units\n",
    "        self.emb_size = emb_size\n",
    "        ## todo why embeding?\n",
    "        self.user_emb = nn.Embedding(n_users,emb_size)\n",
    "        self.item_emb = nn.Embedding(n_items,emb_size)\n",
    "        self.k1 = nn.Linear(hidden_units+2*emb_size,emb_size)\n",
    "        self.k2 = nn.Linear(hidden_units+2*emb_size,emb_size)\n",
    "        self.grucell = nn.GRUCell(input_size = emb_size*2,hidden_size = hidden_units)\n",
    "        self.linear = nn.Linear(hidden_units,n_items)\n",
    "        self.dropout = nn.Dropout(dropout)\n",
    "        self.user_dropout = nn.Dropout(user_dropout)\n",
    "        \n",
    "    def forward(self, user_vectors, item_vectors):\n",
    "        batch_size,_ = user_vectors.size()\n",
    "        user_vectors = user_vectors\n",
    "        item_vectors = item_vectors\n",
    "        sequence_size = user_vectors.size()[1]\n",
    "        \n",
    "        users =  self.user_dropout(self.user_emb(user_vectors))#.view(-1,sequence_size,self.emb_size)\n",
    "        items = self.item_emb(item_vectors)#.view(-1,sequence_size,self.emb_size)\n",
    "        \n",
    "        h = torch.zeros(batch_size,self.hidden_units).to(device)\n",
    "        h_t = h.unsqueeze(0)\n",
    "        for i in range(sequence_size):\n",
    "            rect_users = rectified_users(self,users[:,i,:],items[:,i,:],h)\n",
    "            gru_input = torch.cat([rect_users,items[:,i,:]],dim=-1)\n",
    "            h = self.grucell(gru_input,h)\n",
    "            h_t = torch.cat([h_t,h.unsqueeze(0)],dim=0)\n",
    "        ln_input = self.dropout(h_t[1:].transpose(0,1))\n",
    "        output_ln = self.linear(ln_input)\n",
    "\n",
    "        output = F.log_softmax(output_ln, dim=-1)\n",
    "        return output\n",
    "    \n",
    "def rectified_users(self,users,items,h):\n",
    "    \n",
    "    k1 = self.k1(torch.cat([users,items,h],dim = -1))\n",
    "    k2 = self.k2(torch.cat([users,items,h],dim = -1))\n",
    "    rect_users = users\n",
    "    rect_users[users<k2] = rect_users[users<k2]*0.2\n",
    "    rect_users[users<k1] = 0\n",
    "    return rect_users\n",
    "    "
   ]
  },
  {
   "cell_type": "markdown",
   "metadata": {},
   "source": [
    "### 3. Attentional User-based GRU"
   ]
  },
  {
   "cell_type": "code",
   "execution_count": 3,
   "metadata": {},
   "outputs": [],
   "source": [
    "from torch.nn.parameter import Parameter\n",
    "class AttentionalLinearGRU(nn.Module):\n",
    "    \n",
    "    def __init__(self, n_users,n_items, emb_size=None, hidden_units=1000,dropout = 0.8,user_dropout = 0.5):\n",
    "        super(self.__class__, self).__init__()\n",
    "        self.n_users = n_users\n",
    "        self.n_items = n_items\n",
    "        self.hidden_units = hidden_units\n",
    "        if emb_size == None:\n",
    "            emb_size = hidden_units\n",
    "        self.emb_size = emb_size\n",
    "        ## todo why embeding?\n",
    "        self.user_emb = nn.Embedding(n_users,emb_size)\n",
    "        self.item_emb = nn.Embedding(n_items,emb_size)\n",
    "        self.grucell = nn.GRUCell(input_size = emb_size*2,hidden_size = hidden_units)\n",
    "        self.att_linear = nn.Linear(hidden_units+emb_size*2,emb_size)\n",
    "        torch.nn.init.constant_(self.att_linear.weight,1e-6)\n",
    "        torch.nn.init.constant_(self.att_linear.bias,1e-6)\n",
    "        self.linear = nn.Linear(hidden_units,n_items)\n",
    "        self.dropout = nn.Dropout(dropout)\n",
    "        self.user_dropout = nn.Dropout(user_dropout)\n",
    "        \n",
    "    def forward(self, user_vectors, item_vectors):\n",
    "        batch_size,_ = user_vectors.size()\n",
    "        user_vectors = user_vectors\n",
    "        item_vectors = item_vectors\n",
    "        sequence_size = user_vectors.size()[1]\n",
    "        \n",
    "        users = self.user_dropout(self.user_emb(user_vectors))#.view(-1,sequence_size,self.emb_size)\n",
    "        \n",
    "        items = self.item_emb(item_vectors)#.view(-1,sequence_size,self.emb_size)\n",
    "        \n",
    "        h = torch.zeros(batch_size,self.hidden_units).to(device)\n",
    "        h_t = h.unsqueeze(0)\n",
    "        for i in range(sequence_size):\n",
    "            attention = F.sigmoid(self.att_linear(torch.cat([users[:,i,:],items[:,i,:],h],dim = -1)))\n",
    "            gru_input = torch.cat([attention*users[:,i,:],(1-attention)*items[:,i,:]],dim=-1)\n",
    "            h = self.grucell(gru_input,h)\n",
    "            h_t = torch.cat([h_t,h.unsqueeze(0)],dim=0)\n",
    "        ln_input = self.dropout(h_t[1:].transpose(0,1))\n",
    "        output_ln = self.linear(ln_input)\n",
    "        output = F.log_softmax(output_ln, dim=-1)\n",
    "        return output\n",
    "    \n",
    "    "
   ]
  },
  {
   "cell_type": "markdown",
   "metadata": {},
   "source": [
    "### 4. Multi-head Attentional User-based GRU"
   ]
  },
  {
   "cell_type": "code",
   "execution_count": 20,
   "metadata": {},
   "outputs": [],
   "source": [
    "import copy\n",
    "\n",
    "def attention(query, key, value, mask=None, dropout=None):\n",
    "    \"Compute 'Scaled Dot Product Attention'\"\n",
    "    d_k = query.size(-1)\n",
    "    scores = torch.matmul(query, key.transpose(-2, -1)) \\\n",
    "             / np.sqrt(d_k)\n",
    "    if mask is not None:\n",
    "        scores = scores.masked_fill(mask == 0, -1e9)\n",
    "    p_attn = F.softmax(scores, dim = -1)\n",
    "    if dropout is not None:\n",
    "        p_attn = dropout(p_attn)\n",
    "    return torch.matmul(p_attn, value), p_attn\n",
    "\n",
    "def clones(module, N):\n",
    "    \"Produce N identical layers.\"\n",
    "    return nn.ModuleList([copy.deepcopy(module) for _ in range(N)])\n",
    "\n",
    "class MultiHeadedAttention(nn.Module):\n",
    "    def __init__(self, h, d_model, dropout=0.1):\n",
    "        \"Take in model size and number of heads.\"\n",
    "        super(MultiHeadedAttention, self).__init__()\n",
    "        assert d_model % h == 0\n",
    "        # We assume d_v always equals d_k\n",
    "        self.d_k = d_model // h\n",
    "        self.h = h\n",
    "        self.linears = clones(nn.Linear(d_model, d_model), 4)\n",
    "        self.attn = None\n",
    "        self.dropout = nn.Dropout(p=dropout)\n",
    "        \n",
    "    def forward(self, query, key, value, mask=None):\n",
    "        \"Implements Figure 2\"\n",
    "        if mask is not None:\n",
    "            # Same mask applied to all h heads.\n",
    "            mask = mask.unsqueeze(1)\n",
    "        nbatches = query.size(0)\n",
    "        \n",
    "        # 1) Do all the linear projections in batch from d_model => h x d_k \n",
    "        query, key, value = \\\n",
    "            [l(x).view(nbatches, -1, self.h, self.d_k).transpose(1, 2)\n",
    "             for l, x in zip(self.linears, (query, key, value))]\n",
    "        \n",
    "        # 2) Apply attention on all the projected vectors in batch. \n",
    "        x, self.attn = attention(query, key, value, mask=mask, \n",
    "                                 dropout=self.dropout)\n",
    "        \n",
    "        # 3) \"Concat\" using a view and apply a final linear. \n",
    "        x = x.transpose(1, 2).contiguous() \\\n",
    "             .view(nbatches, -1, self.h * self.d_k)\n",
    "        return self.linears[-1](x)\n",
    "\n",
    "\n",
    "class MHLinearGRU(nn.Module):\n",
    "    \n",
    "    def __init__(self, n_users,n_items, emb_size=1000,head_num = 5,dropout = 0.8,user_dropout = 0.5):\n",
    "        super(self.__class__, self).__init__()\n",
    "        self.n_users = n_users\n",
    "        self.n_items = n_items\n",
    "        self.hidden_units = emb_size\n",
    "        self.emb_size = emb_size\n",
    "        ## todo why embeding?\n",
    "        self.user_emb = nn.Embedding(n_users,emb_size)\n",
    "        self.item_emb = nn.Embedding(n_items,emb_size)\n",
    "        self.grucell = nn.GRUCell(input_size = emb_size*2,hidden_size = self.hidden_units)\n",
    "        #self.att_linear = nn.Linear(hidden_units+emb_size*2,emb_size)\n",
    "#         torch.nn.init.constant_(self.att_linear.weight,1e-6)\n",
    "#         torch.nn.init.constant_(self.att_linear.bias,1e-6)\n",
    "        self.linear = nn.Linear(self.hidden_units,n_items)\n",
    "        self.dropout = nn.Dropout(dropout)\n",
    "        self.user_dropout = nn.Dropout(user_dropout)\n",
    "        self.user_attention = MultiHeadedAttention(head_num, self.emb_size)\n",
    "        self.item_attention = MultiHeadedAttention(head_num, self.emb_size)\n",
    "        self.bn_user = nn.BatchNorm1d(self.emb_size)\n",
    "        self.bn_item = nn.BatchNorm1d(self.emb_size)\n",
    "        \n",
    "    def forward(self, user_vectors, item_vectors):\n",
    "        batch_size,_ = user_vectors.size()\n",
    "        user_vectors = user_vectors\n",
    "        item_vectors = item_vectors\n",
    "        sequence_size = user_vectors.size()[1]\n",
    "        \n",
    "        users = self.user_dropout(self.user_emb(user_vectors))#.view(-1,sequence_size,self.emb_size)\n",
    "        \n",
    "        items = self.item_emb(item_vectors)#.view(-1,sequence_size,self.emb_size)\n",
    "        \n",
    "        h = torch.zeros(batch_size,self.hidden_units).to(device)\n",
    "        h_t = h.unsqueeze(0)\n",
    "        for i in range(sequence_size):\n",
    "            #attention = F.sigmoid(self.att_linear(torch.cat([users[:,i,:],items[:,i,:],h],dim = -1)))\n",
    "            attnd_users = self.user_attention(items[:,i,:],h,users[:,i,:]).squeeze(1)\n",
    "            attnd_items = self.item_attention(users[:,i,:],h,items[:,i,:]).squeeze(1)\n",
    "#             attnd_users = self.bn_user(attnd_users)\n",
    "#             attnd_items = self.bn_item(attnd_items)\n",
    "            gru_input = torch.cat([attnd_users,attnd_items],dim=-1)\n",
    "            h = self.grucell(gru_input,h)\n",
    "            h_t = torch.cat([h_t,h.unsqueeze(0)],dim=0)\n",
    "        ln_input = self.dropout(h_t[1:].transpose(0,1))\n",
    "#         output_ln  = self.attention(users,items,ln_input)\n",
    "        output_ln = self.linear(ln_input)\n",
    "        output = F.log_softmax(output_ln, dim=-1)\n",
    "        return output\n",
    "    \n",
    "    "
   ]
  },
  {
   "cell_type": "code",
   "execution_count": null,
   "metadata": {},
   "outputs": [],
   "source": [
    "n_users = int(ml_test_users.max()+1)\n",
    "n_items = int(np.max([ml_train_items.max()+1,ml_val_items.max()+1,ml_test_items.max()])+1)\n",
    "n_users"
   ]
  },
  {
   "cell_type": "code",
   "execution_count": 108,
   "metadata": {},
   "outputs": [
    {
     "data": {
      "text/plain": [
       "torch.Size([2, 5, 10678])"
      ]
     },
     "execution_count": 108,
     "metadata": {},
     "output_type": "execute_result"
    }
   ],
   "source": [
    "device = torch.device(\"cuda:2\" if torch.cuda.is_available() else \"cpu\")\n",
    "# device = torch.device(\"cpu\")\n",
    "# network = AttentionalLinearGRU(n_users=3,n_items=3,emb_size=20).to(device)\n",
    "network = MHLinearGRU(n_users=n_users,n_items=n_items).to(device)\n",
    "\n",
    "users = np.array([[1,1,1,1,1],\n",
    "                  [2,2,2,2,2]])\n",
    "items = np.array([[0,1,2,1,1],\n",
    "                  [0,2,2,1,0]])\n",
    "pred = network(Variable(torch.LongTensor(users)).to(device),Variable(torch.LongTensor(items)).to(device))\n",
    "pred.size()"
   ]
  },
  {
   "cell_type": "markdown",
   "metadata": {},
   "source": [
    "### MovieLens Prerocessing"
   ]
  },
  {
   "cell_type": "code",
   "execution_count": 6,
   "metadata": {},
   "outputs": [],
   "source": [
    "# Libraries and provided functions\n",
    "import pandas as pd\n",
    "import zipfile\n",
    "import wget\n",
    "from io import StringIO \n",
    "import numpy as np\n",
    "import scipy as sp\n",
    "from scipy import sparse\n",
    "import scipy.sparse.linalg\n",
    "from tqdm import tqdm # Very useful library to see progress bar during range iterations: just type `for i in tqdm(range(10)):`\n",
    "from matplotlib import pyplot as plt\n",
    "%matplotlib inline\n",
    "\n",
    "from collections import namedtuple\n",
    "import sys\n",
    "\n",
    "def move_timestamps_to_end(x,max_order):\n",
    "    new_order = x.groupby('timestamp', sort=True).grouper.group_info[0]\n",
    "    x[\"timestamp\"] = (max_order - new_order.max())+new_order\n",
    "    return x\n",
    "\n",
    "def normalize_timestamp(x):\n",
    "    x[\"timestamp\"] = x.groupby(['timestamp','itemid'], sort=True).grouper.group_info[0]\n",
    "    return x\n",
    "\n",
    "def set_timestamp_length(x):\n",
    "    x['length'] = len(x)\n",
    "    return x\n",
    "\n",
    "def to_coo(data):\n",
    "    user_idx, item_idx, feedback = ml_data['userid'], ml_data['itemid'], ml_data['rating']\n",
    "    return user_idx, item_idx, feedback\n",
    "\n",
    "def to_matrices(data):\n",
    "    data = split_by_groups(data)\n",
    "    \n",
    "    data_max_order = data['timestamp'].max()\n",
    "    data = data.groupby(\"index\").apply(move_timestamps_to_end,data_max_order)\n",
    "\n",
    "    data_shape = data[['index', 'timestamp']].max()+1\n",
    "    data_matrix = sp.sparse.csr_matrix((data['itemid'],\n",
    "                                   (data['index'], data['timestamp'])),\n",
    "                                    shape=data_shape, dtype=np.float64).todense()\n",
    "    mask_matrix = sp.sparse.csr_matrix((np.ones(len(data)),\n",
    "                                   (data['index'], data['timestamp'])),\n",
    "                                    shape=data_shape, dtype=np.float64).todense()\n",
    "    \n",
    "    data_users = data.drop_duplicates(['index'])\n",
    "    user_data_shape = data_users['index'].max()+1\n",
    "    user_vector = sp.sparse.csr_matrix((data_users['userid'],\n",
    "                                   (data_users['index'],np.zeros(user_data_shape))),\n",
    "                                    shape=(user_data_shape,1), dtype=np.float64).todense()\n",
    "    user_matrix = np.tile(user_vector,(1,data_shape[1]))\n",
    "    return data_matrix, mask_matrix, user_matrix\n",
    "\n",
    "def train_val_test_split(data,frac):\n",
    "    data = data.groupby(\"userid\").apply(set_timestamp_length)\n",
    "    max_time_stamp = data['length']*frac\n",
    "    timestamp = data['timestamp']\n",
    "    data_train = data[timestamp<max_time_stamp*0.9].groupby(\"userid\").apply(normalize_timestamp)\n",
    "    data_val = data[(0.9*max_time_stamp<=timestamp)&(timestamp<0.95*max_time_stamp)]\\\n",
    "                                                            .groupby(\"userid\").apply(normalize_timestamp)\n",
    "    data_test = data[(0.95*max_time_stamp<=timestamp)&(timestamp<=max_time_stamp)].groupby(\"userid\").apply(normalize_timestamp)\n",
    "    return data_train, data_val, data_test\n",
    "\n",
    "def split_by_groups(data,group_length=20):\n",
    "    data[\"group\"] = data['timestamp']//group_length\n",
    "    data[\"timestamp\"] = data['timestamp']%group_length\n",
    "    data[\"index\"] = data.groupby(['userid','group'], sort=False).grouper.group_info[0]\n",
    "    return data\n",
    "\n",
    "def get_prepared_data(data,frac = 1):\n",
    "    print(\"Normalizing indices to avoid gaps\")\n",
    "    # normalize indices to avoid gaps\n",
    "    data['itemid'] = data.groupby('itemid', sort=False).grouper.group_info[0]\n",
    "    data['userid'] = data.groupby('userid', sort=False).grouper.group_info[0]\n",
    "    data = data.groupby(\"userid\").apply(normalize_timestamp)\n",
    "\n",
    "    # build sparse user-movie matrix\n",
    "    print(\"Splitting into train, validation and test parts\")\n",
    "    \n",
    "    data_train, data_val, data_test = train_val_test_split(data,frac)\n",
    "    \n",
    "    user_idx, item_idx, feedback =  to_coo(data_train.copy())\n",
    "    \n",
    "    train_items, train_mask, train_users= to_matrices(data_train.copy())\n",
    "    val_items, val_mask, val_users = to_matrices(data_val.copy())\n",
    "    test_items, test_mask, test_users = to_matrices(data_test.copy())\n",
    "    \n",
    "    \n",
    "    print('Done.')\n",
    "    return (train_items, train_mask, train_users),\\\n",
    "           (val_items, val_mask, val_users),\\\n",
    "           (test_items, test_mask, test_users),\\\n",
    "           (user_idx, item_idx, feedback)\n",
    "        \n",
    "\n",
    "def get_movielens_data():\n",
    "    '''Downloads movielens data, normalizes users, timesteps and movies ids,\n",
    "    returns data in sparse CSR format.\n",
    "    '''\n",
    "    print('Loading data into memory...')\n",
    "    with zipfile.ZipFile(\"ml-10m.zip\") as zfile:\n",
    "        zdata = zfile.read('ml-10M100K/ratings.dat').decode()\n",
    "        delimiter = ';'\n",
    "        zdata = zdata.replace('::', delimiter) # makes data compatible with pandas c-engine\n",
    "        ml_data = pd.read_csv(StringIO(zdata), sep=delimiter, header=None, engine='c',\n",
    "                                  names=['userid', 'movieid' ,'rating','timestamp'],\n",
    "                                  usecols=['userid', 'movieid','rating','timestamp'])\n",
    "        ml_data['itemid'] = ml_data['movieid']\n",
    "    return ml_data\n",
    "\n",
    "\n"
   ]
  },
  {
   "cell_type": "code",
   "execution_count": 12,
   "metadata": {},
   "outputs": [],
   "source": [
    "ml_data = get_movielens_data()\n",
    "\n",
    "(ml_train_items, ml_train_mask,ml_train_users),\\\n",
    "(ml_val_items, ml_val_mask,ml_val_users),\\\n",
    "(ml_test_items, ml_test_mask,ml_test_users),\\\n",
    "(train_user_idx, train_item_idx, train_feedback) = get_prepared_data(ml_data)\n",
    "\n",
    "# np.save(\"ml_train_items\",ml_train_items)\n",
    "# np.save('ml_train_mask',ml_train_mask)\n",
    "# np.save('ml_train_users',ml_train_users)\n",
    "# np.save('ml_val_items',ml_val_items)\n",
    "# np.save('ml_val_mask',ml_val_mask)\n",
    "# np.save('ml_val_users',ml_val_users)\n",
    "# np.save('ml_test_items',ml_test_items)\n",
    "# np.save('ml_test_mask',ml_test_mask)\n",
    "# np.save('ml_test_users',ml_test_users)\n",
    "np.save('train_user_idx',train_user_idx)\n",
    "np.save('train_item_idx',train_item_idx)\n",
    "np.save('train_feedback',train_feedback)"
   ]
  },
  {
   "cell_type": "code",
   "execution_count": 3,
   "metadata": {},
   "outputs": [],
   "source": [
    "ml_train_items = np.load(\"ml_train_items.npy\")\n",
    "ml_train_mask = np.load(\"ml_train_mask.npy\")\n",
    "ml_train_users = np.load(\"ml_train_users.npy\")\n",
    "ml_val_items = np.load(\"ml_val_items.npy\")\n",
    "ml_val_mask = np.load(\"ml_val_mask.npy\")\n",
    "ml_val_users = np.load(\"ml_val_users.npy\")\n",
    "ml_test_items = np.load(\"ml_test_items.npy\")\n",
    "ml_test_mask = np.load(\"ml_test_mask.npy\")\n",
    "ml_test_users = np.load(\"ml_test_users.npy\")"
   ]
  },
  {
   "cell_type": "markdown",
   "metadata": {},
   "source": [
    "### LastFM Prerocessing"
   ]
  },
  {
   "cell_type": "code",
   "execution_count": 82,
   "metadata": {},
   "outputs": [],
   "source": [
    "import tarfile\n",
    "\n",
    "def get_lastfm_data():\n",
    "    with tarfile.TarFile(\"lastfm-dataset-1K.tar\") as tfile:\n",
    "        member = tfile.getmember('lastfm-dataset-1K/userid-timestamp-artid-artname-traid-traname.tsv')\n",
    "        f = tfile.extractfile(member)\n",
    "        delimiter = '\\t'\n",
    "        lf_data = pd.read_csv(f, sep=delimiter, header=None, engine='c',\n",
    "                                  names=['userid', 'timestamp','artid','artname','traid','traname'],\n",
    "                                  usecols=['userid', 'timestamp','artid','artname','traid','traname'])\n",
    "        lf_data['timestamp'] = pd.to_datetime(lf_data['timestamp'])\n",
    "        lf_data['itemid'] = lf_data['traname']\n",
    "        lf_data = lf_data[['userid','timestamp','itemid']]\n",
    "        #lf_data = lf_data.sample(frac = 0.1)\n",
    "        lf_data = lf_data.drop_duplicates(['userid','timestamp','itemid'])\n",
    "    return lf_data"
   ]
  },
  {
   "cell_type": "code",
   "execution_count": 25,
   "metadata": {},
   "outputs": [
    {
     "name": "stdout",
     "output_type": "stream",
     "text": [
      "Normalizing indices to avoid gaps\n",
      "Splitting into train, validation and test parts\n",
      "Done.\n"
     ]
    }
   ],
   "source": [
    "lf_data = get_lastfm_data()\n",
    "\n",
    "(lf_train_items, lf_train_mask,lf_train_users),\\\n",
    "(lf_val_items, lf_val_mask,lf_val_users),\\\n",
    "(lf_test_items, lf_test_mask,lf_test_users) = get_prepared_data(lf_data,0.1)\n",
    "\n",
    "np.save(\"lf_train_items\",lf_train_items)\n",
    "np.save('lf_train_mask',lf_train_mask)\n",
    "np.save('lf_train_users',lf_train_users)\n",
    "np.save('lf_val_items',lf_val_items)\n",
    "np.save('lf_val_mask',lf_val_mask)\n",
    "np.save('lf_val_users',lf_val_users)\n",
    "np.save('lf_test_items',lf_test_items)\n",
    "np.save('lf_test_mask',lf_test_mask)\n",
    "np.save('lf_test_users',lf_test_users)"
   ]
  },
  {
   "cell_type": "code",
   "execution_count": 3,
   "metadata": {},
   "outputs": [],
   "source": [
    "lf_train_items = np.load(\"lf_train_items.npy\")\n",
    "lf_train_mask = np.load(\"lf_train_mask.npy\")\n",
    "lf_train_users = np.load(\"lf_train_users.npy\")\n",
    "lf_val_items = np.load(\"lf_val_items.npy\")\n",
    "lf_val_mask = np.load(\"lf_val_mask.npy\")\n",
    "lf_val_users = np.load(\"lf_val_users.npy\")\n",
    "lf_test_items = np.load(\"lf_test_items.npy\")\n",
    "lf_test_mask = np.load(\"lf_test_mask.npy\")\n",
    "lf_test_users = np.load(\"lf_test_users.npy\")"
   ]
  },
  {
   "cell_type": "markdown",
   "metadata": {},
   "source": [
    "### Training on MovieLens"
   ]
  },
  {
   "cell_type": "code",
   "execution_count": 6,
   "metadata": {},
   "outputs": [
    {
     "data": {
      "text/plain": [
       "34"
      ]
     },
     "execution_count": 6,
     "metadata": {},
     "output_type": "execute_result"
    },
    {
     "data": {
      "text/plain": [
       "34"
      ]
     },
     "execution_count": 6,
     "metadata": {},
     "output_type": "execute_result"
    },
    {
     "data": {
      "text/plain": [
       "34"
      ]
     },
     "execution_count": 6,
     "metadata": {},
     "output_type": "execute_result"
    }
   ],
   "source": [
    "import gc\n",
    "torch.cuda.empty_cache()\n",
    "gc.collect() "
   ]
  },
  {
   "cell_type": "code",
   "execution_count": 21,
   "metadata": {},
   "outputs": [],
   "source": [
    "device = torch.device(\"cuda:2\" if torch.cuda.is_available() else \"cpu\")\n",
    "# device = torch.device(\"cpu\")\n",
    "n_users = int(ml_test_users.max()+1)\n",
    "n_items = int(np.max([ml_train_items.max()+1,ml_val_items.max()+1,ml_test_items.max()])+1)\n",
    "network = MHLinearGRU(n_users=n_users,n_items=n_items).to(device)"
   ]
  },
  {
   "cell_type": "code",
   "execution_count": 22,
   "metadata": {},
   "outputs": [],
   "source": [
    "import torch.utils.data\n",
    "opt = torch.optim.Adam(network.parameters(),lr =0.001)\n",
    "\n",
    "history = []\n",
    "\n",
    "train_loader = torch.utils.data.DataLoader(\\\n",
    "            torch.utils.data.TensorDataset(\\\n",
    "            *(torch.LongTensor(ml_train_users),torch.LongTensor(ml_train_items),torch.FloatTensor(ml_train_mask))),\\\n",
    "            batch_size=1000,shuffle=True)\n",
    "\n",
    "val_loader = torch.utils.data.DataLoader(\\\n",
    "            torch.utils.data.TensorDataset(\\\n",
    "            *(torch.LongTensor(ml_val_users),torch.LongTensor(ml_val_items),torch.FloatTensor(ml_val_mask))),\\\n",
    "            batch_size=1000,shuffle=True)\n",
    "test_loader = torch.utils.data.DataLoader(\\\n",
    "            torch.utils.data.TensorDataset(\\\n",
    "            *(torch.LongTensor(ml_test_users),torch.LongTensor(ml_test_items),torch.FloatTensor(ml_test_mask))),\\\n",
    "            batch_size=1000,shuffle=True)"
   ]
  },
  {
   "cell_type": "code",
   "execution_count": 91,
   "metadata": {},
   "outputs": [
    {
     "name": "stderr",
     "output_type": "stream",
     "text": [
      "/usr/local/lib/python3.5/dist-packages/torch/serialization.py:193: UserWarning: Couldn't retrieve source code for container of type MHLinearGRU. It won't be checked for correctness upon loading.\n",
      "  \"type \" + obj.__name__ + \". It won't be checked \"\n",
      "/usr/local/lib/python3.5/dist-packages/torch/serialization.py:193: UserWarning: Couldn't retrieve source code for container of type MultiHeadedAttention. It won't be checked for correctness upon loading.\n",
      "  \"type \" + obj.__name__ + \". It won't be checked \"\n"
     ]
    }
   ],
   "source": [
    "torch.save(network,\"network.p\")"
   ]
  },
  {
   "cell_type": "code",
   "execution_count": 7,
   "metadata": {},
   "outputs": [],
   "source": [
    "network = torch.load(\"network.p\")"
   ]
  },
  {
   "cell_type": "code",
   "execution_count": 23,
   "metadata": {},
   "outputs": [],
   "source": [
    "import torch.utils.data\n",
    "from IPython.display import clear_output\n",
    "import gc\n",
    "\n",
    "\n",
    "\n",
    "def validate_lce(network,val_loader):\n",
    "    torch.cuda.empty_cache()\n",
    "    gc.collect()\n",
    "    network.eval()\n",
    "    losses = []\n",
    "    with torch.no_grad():\n",
    "        for user_batch_ix,item_batch_ix, mask_batch_ix in val_loader:\n",
    "\n",
    "            user_batch_ix = Variable(user_batch_ix).to(device)\n",
    "            item_batch_ix = Variable(item_batch_ix).to(device)\n",
    "            mask_batch_ix = Variable(mask_batch_ix).to(device)\n",
    "\n",
    "            logp_seq = network(user_batch_ix, item_batch_ix)\n",
    "            # compute loss\n",
    "            predictions_logp = logp_seq[:, :-1]*mask_batch_ix[:, :-1,None]\n",
    "            actual_next_tokens = item_batch_ix[:, 1:]\n",
    "\n",
    "            logp_next = torch.gather(predictions_logp, dim=2, index=actual_next_tokens[:,:,None])\n",
    "            loss = -logp_next.sum()/mask_batch_ix[:, :-1].sum()\n",
    "            losses.append(loss.cpu().data.numpy())\n",
    "    torch.cuda.empty_cache()\n",
    "    gc.collect() \n",
    "    return np.mean(losses)\n",
    "\n",
    "\n",
    "def train_network(network,train_loader,val_loader):\n",
    "    for epoch in range(10):\n",
    "        i=0\n",
    "        for user_batch_ix,item_batch_ix, mask_batch_ix in train_loader:\n",
    "            network.train()\n",
    "            user_batch_ix = Variable(user_batch_ix).to(device)\n",
    "            item_batch_ix = Variable(item_batch_ix).to(device)\n",
    "            mask_batch_ix = Variable(mask_batch_ix).to(device)\n",
    "\n",
    "            logp_seq = network(user_batch_ix, item_batch_ix)\n",
    "            # compute loss\n",
    "            predictions_logp = logp_seq[:, :-1]*mask_batch_ix[:, :-1,None]\n",
    "            actual_next_tokens = item_batch_ix[:, 1:]\n",
    "\n",
    "            logp_next = torch.gather(predictions_logp, dim=2, index=actual_next_tokens[:,:,None])\n",
    "            loss = -logp_next.sum()/mask_batch_ix[:, :-1].sum()\n",
    "\n",
    "            # train with backprop\n",
    "            opt.zero_grad()\n",
    "            loss.backward()\n",
    "            nn.utils.clip_grad_norm_(network.parameters(),5)\n",
    "            opt.step()\n",
    "            \n",
    "            if (i+1)%50==0:\n",
    "                val_loss = validate_lce(network,val_loader)\n",
    "                history.append(val_loss)\n",
    "\n",
    "                clear_output(True)\n",
    "                plt.title(\"Validation error\")\n",
    "                plt.plot(history)\n",
    "                plt.ylabel('Cross-entropy Error')\n",
    "                plt.xlabel('#iter')\n",
    "                plt.show()\n",
    "            i+=1\n",
    "            if len(history)==100:\n",
    "                return\n",
    "\n",
    "    val_loss = validate_lce(network,val_loader)\n",
    "    history.append(val_loss)\n",
    "\n",
    "    clear_output(True)\n",
    "    plt.plot(history,label='val loss')\n",
    "    plt.legend()\n",
    "    plt.show()\n"
   ]
  },
  {
   "cell_type": "code",
   "execution_count": 24,
   "metadata": {},
   "outputs": [
    {
     "data": {
      "image/png": "[encoded data removed]",
      "text/plain": [
       "<Figure size 432x288 with 1 Axes>"
      ]
     },
     "metadata": {},
     "output_type": "display_data"
    }
   ],
   "source": [
    "train_network(network,train_loader,val_loader)"
   ]
  },
  {
   "cell_type": "code",
   "execution_count": 10,
   "metadata": {},
   "outputs": [
    {
     "name": "stderr",
     "output_type": "stream",
     "text": [
      "/usr/local/lib/python3.5/dist-packages/torch/serialization.py:193: UserWarning: Couldn't retrieve source code for container of type MHLinearGRU. It won't be checked for correctness upon loading.\n",
      "  \"type \" + obj.__name__ + \". It won't be checked \"\n",
      "/usr/local/lib/python3.5/dist-packages/torch/serialization.py:193: UserWarning: Couldn't retrieve source code for container of type MultiHeadedAttention. It won't be checked for correctness upon loading.\n",
      "  \"type \" + obj.__name__ + \". It won't be checked \"\n"
     ]
    }
   ],
   "source": [
    "torch.save(network,\"network.p\")"
   ]
  },
  {
   "cell_type": "code",
   "execution_count": 17,
   "metadata": {},
   "outputs": [],
   "source": [
    "def validate_mrr(network,k,test_loader):\n",
    "    network.eval()\n",
    "    losses = []\n",
    "    with torch.no_grad():\n",
    "        for user_batch_ix,item_batch_ix, mask_batch_ix in test_loader:\n",
    "            user_batch_ix = Variable(user_batch_ix).to(device)\n",
    "            item_batch_ix = Variable(item_batch_ix).to(device)\n",
    "            mask_batch_ix = Variable(mask_batch_ix).to(device)\n",
    "\n",
    "            logp_seq = network(user_batch_ix, item_batch_ix)\n",
    "            # compute loss\n",
    "            predictions_logp = logp_seq[:,-2]\n",
    "            _,ind = torch.topk(predictions_logp, k,dim=-1)\n",
    "            mrr = torch.zeros(predictions_logp.size())\n",
    "            mrr.scatter_(-1,ind.cpu(),1/torch.range(1,k).repeat(*ind.size()[:-1],1).type(torch.FloatTensor).cpu())\n",
    "            actual_next_tokens = item_batch_ix[:, -1]\n",
    "\n",
    "            logp_next = torch.gather(mrr.to(device)*mask_batch_ix[:, -2,None], dim=1, index=actual_next_tokens[:,None])\n",
    "#             if mask_batch_ix[:,-2].sum() >0:\n",
    "            loss = logp_next.sum()/mask_batch_ix[:,-2].sum()\n",
    "            losses.append(loss.cpu().data.numpy())\n",
    "            torch.cuda.empty_cache()\n",
    "            gc.collect() \n",
    "\n",
    "    return np.mean(losses)\n",
    "\n",
    "def validate_recall(network,k,test_loader):\n",
    "    torch.cuda.empty_cache()\n",
    "    gc.collect() \n",
    "    \n",
    "    network.eval()\n",
    "    losses = []\n",
    "    with torch.no_grad():\n",
    "        for user_batch_ix,item_batch_ix, mask_batch_ix in test_loader:\n",
    "            user_batch_ix = Variable(user_batch_ix).to(device)\n",
    "            item_batch_ix = Variable(item_batch_ix).to(device)\n",
    "            mask_batch_ix = Variable(mask_batch_ix).to(device)\n",
    "\n",
    "            logp_seq = network(user_batch_ix, item_batch_ix)\n",
    "            # compute loss\n",
    "            predictions_logp = logp_seq[:, -2]\n",
    "            minus_kth_biggest_logp,_ = torch.kthvalue(-predictions_logp.cpu(), k,dim=-1,keepdim=True)\n",
    "            prediicted_kth_biggest = (predictions_logp>(-minus_kth_biggest_logp.to(device)))\\\n",
    "                                        .type(torch.FloatTensor).to(device)\n",
    "            actual_next_tokens = item_batch_ix[:, -1]\n",
    "\n",
    "            logp_next = torch.gather(prediicted_kth_biggest*mask_batch_ix[:, -2,None], dim=1, index=actual_next_tokens[:,None])\n",
    "            loss = logp_next.sum()/mask_batch_ix[:,-2].sum()\n",
    "            losses.append(loss.cpu().data.numpy())\n",
    "    torch.cuda.empty_cache()\n",
    "    gc.collect() \n",
    "    return np.mean(losses)"
   ]
  },
  {
   "cell_type": "code",
   "execution_count": 41,
   "metadata": {},
   "outputs": [
    {
     "name": "stdout",
     "output_type": "stream",
     "text": [
      "MRR score for Linear User-based GRU:  0.053085506\n",
      "Recall score for Linear User-based GRU:  0.16474381\n"
     ]
    }
   ],
   "source": [
    "linear_mrr_score = validate_mrr(network,20,test_loader)\n",
    "print(\"MRR score for Linear User-based GRU: \",linear_mrr_score)\n",
    "linear_recall_score = validate_recall(network,20,test_loader)\n",
    "print(\"Recall score for Linear User-based GRU: \",linear_recall_score)"
   ]
  },
  {
   "cell_type": "markdown",
   "metadata": {},
   "source": [
    "### Training on LastFM"
   ]
  },
  {
   "cell_type": "code",
   "execution_count": 12,
   "metadata": {},
   "outputs": [
    {
     "data": {
      "text/plain": [
       "0"
      ]
     },
     "execution_count": 12,
     "metadata": {},
     "output_type": "execute_result"
    }
   ],
   "source": [
    "import gc\n",
    "torch.cuda.empty_cache()\n",
    "gc.collect() "
   ]
  },
  {
   "cell_type": "code",
   "execution_count": 11,
   "metadata": {},
   "outputs": [
    {
     "data": {
      "text/plain": [
       "415031"
      ]
     },
     "execution_count": 11,
     "metadata": {},
     "output_type": "execute_result"
    }
   ],
   "source": [
    "int(np.max([lf_train_items.max()+1,lf_val_items.max()+1,lf_test_items.max()])+1)"
   ]
  },
  {
   "cell_type": "code",
   "execution_count": 16,
   "metadata": {},
   "outputs": [],
   "source": [
    "device = torch.device(\"cuda:6\" if torch.cuda.is_available() else \"cpu\")\n",
    "# device = torch.device(\"cpu\")\n",
    "n_users = int(np.max([lf_train_users.max()+1,lf_val_users.max()+1,lf_test_users.max()])+1)\n",
    "n_items = int(np.max([lf_train_items.max()+1,lf_val_items.max()+1,lf_test_items.max()])+1)\n",
    "network = LinearGRU(n_users=n_users,n_items=n_items).to(device)"
   ]
  },
  {
   "cell_type": "code",
   "execution_count": 17,
   "metadata": {},
   "outputs": [],
   "source": [
    "import torch.utils.data\n",
    "opt = torch.optim.SGD(network.parameters(),lr =0.001)\n",
    "\n",
    "history = []\n",
    "\n",
    "train_loader = torch.utils.data.DataLoader(\\\n",
    "            torch.utils.data.TensorDataset(\\\n",
    "            *(torch.LongTensor(lf_train_users),torch.LongTensor(lf_train_items),torch.FloatTensor(lf_train_mask))),\\\n",
    "            batch_size=20,shuffle=True)\n",
    "\n",
    "val_loader = torch.utils.data.DataLoader(\\\n",
    "            torch.utils.data.TensorDataset(\\\n",
    "            *(torch.LongTensor(lf_val_users),torch.LongTensor(lf_val_items),torch.FloatTensor(lf_val_mask))),\\\n",
    "            batch_size=20,shuffle=True)\n",
    "test_loader = torch.utils.data.DataLoader(\\\n",
    "            torch.utils.data.TensorDataset(\\\n",
    "            *(torch.LongTensor(lf_test_users),torch.LongTensor(lf_test_items),torch.FloatTensor(lf_test_mask))),\\\n",
    "            batch_size=20,shuffle=True)\n"
   ]
  },
  {
   "cell_type": "code",
   "execution_count": 18,
   "metadata": {},
   "outputs": [
    {
     "data": {
      "image/png": "[encoded data removed]",
      "text/plain": [
       "<Figure size 432x288 with 1 Axes>"
      ]
     },
     "metadata": {},
     "output_type": "display_data"
    },
    {
     "ename": "KeyboardInterrupt",
     "evalue": "",
     "output_type": "error",
     "traceback": [
      "\u001b[0;31m---------------------------------------------------------------------------\u001b[0m",
      "\u001b[0;31mKeyboardInterrupt\u001b[0m                         Traceback (most recent call last)",
      "\u001b[0;32m<ipython-input-18-1552dbd56400>\u001b[0m in \u001b[0;36m<module>\u001b[0;34m()\u001b[0m\n\u001b[0;32m----> 1\u001b[0;31m \u001b[0mtrain_network\u001b[0m\u001b[0;34m(\u001b[0m\u001b[0mnetwork\u001b[0m\u001b[0;34m,\u001b[0m\u001b[0mtrain_loader\u001b[0m\u001b[0;34m,\u001b[0m\u001b[0mval_loader\u001b[0m\u001b[0;34m)\u001b[0m\u001b[0;34m\u001b[0m\u001b[0m\n\u001b[0m",
      "\u001b[0;32m<ipython-input-7-4f235c82d8fa>\u001b[0m in \u001b[0;36mtrain_network\u001b[0;34m(network, train_loader, val_loader)\u001b[0m\n\u001b[1;32m     35\u001b[0m         \u001b[0;32mfor\u001b[0m \u001b[0muser_batch_ix\u001b[0m\u001b[0;34m,\u001b[0m\u001b[0mitem_batch_ix\u001b[0m\u001b[0;34m,\u001b[0m \u001b[0mmask_batch_ix\u001b[0m \u001b[0;32min\u001b[0m \u001b[0mtrain_loader\u001b[0m\u001b[0;34m:\u001b[0m\u001b[0;34m\u001b[0m\u001b[0m\n\u001b[1;32m     36\u001b[0m             \u001b[0mnetwork\u001b[0m\u001b[0;34m.\u001b[0m\u001b[0mtrain\u001b[0m\u001b[0;34m(\u001b[0m\u001b[0;34m)\u001b[0m\u001b[0;34m\u001b[0m\u001b[0m\n\u001b[0;32m---> 37\u001b[0;31m             \u001b[0muser_batch_ix\u001b[0m \u001b[0;34m=\u001b[0m \u001b[0mVariable\u001b[0m\u001b[0;34m(\u001b[0m\u001b[0muser_batch_ix\u001b[0m\u001b[0;34m)\u001b[0m\u001b[0;34m.\u001b[0m\u001b[0mto\u001b[0m\u001b[0;34m(\u001b[0m\u001b[0mdevice\u001b[0m\u001b[0;34m)\u001b[0m\u001b[0;34m\u001b[0m\u001b[0m\n\u001b[0m\u001b[1;32m     38\u001b[0m             \u001b[0mitem_batch_ix\u001b[0m \u001b[0;34m=\u001b[0m \u001b[0mVariable\u001b[0m\u001b[0;34m(\u001b[0m\u001b[0mitem_batch_ix\u001b[0m\u001b[0;34m)\u001b[0m\u001b[0;34m.\u001b[0m\u001b[0mto\u001b[0m\u001b[0;34m(\u001b[0m\u001b[0mdevice\u001b[0m\u001b[0;34m)\u001b[0m\u001b[0;34m\u001b[0m\u001b[0m\n\u001b[1;32m     39\u001b[0m             \u001b[0mmask_batch_ix\u001b[0m \u001b[0;34m=\u001b[0m \u001b[0mVariable\u001b[0m\u001b[0;34m(\u001b[0m\u001b[0mmask_batch_ix\u001b[0m\u001b[0;34m)\u001b[0m\u001b[0;34m.\u001b[0m\u001b[0mto\u001b[0m\u001b[0;34m(\u001b[0m\u001b[0mdevice\u001b[0m\u001b[0;34m)\u001b[0m\u001b[0;34m\u001b[0m\u001b[0m\n",
      "\u001b[0;31mKeyboardInterrupt\u001b[0m: "
     ]
    }
   ],
   "source": [
    "train_network(network,train_loader,val_loader)"
   ]
  },
  {
   "cell_type": "code",
   "execution_count": 33,
   "metadata": {},
   "outputs": [
    {
     "name": "stdout",
     "output_type": "stream",
     "text": [
      "MRR score for Linear User-based GRU:  0.05772805\n",
      "Recall score for Linear User-based GRU:  0.18285066\n"
     ]
    }
   ],
   "source": [
    "linear_mrr_score = validate_mrr(network,20,test_loader)\n",
    "print(\"MRR score for Linear User-based GRU: \",linear_mrr_score)\n",
    "linear_recall_score = validate_recall(network,20,test_loader)\n",
    "print(\"Recall score for Linear User-based GRU: \",linear_recall_score)"
   ]
  },
  {
   "cell_type": "code",
   "execution_count": 49,
   "metadata": {},
   "outputs": [
    {
     "name": "stdout",
     "output_type": "stream",
     "text": [
      "MRR score for Rectified Linear User-based GRU:  0.05866462\n",
      "Recall score for Rectified Linear User-based GRU:  0.18724447\n"
     ]
    }
   ],
   "source": [
    "rect_linear_mrr_score = validate_mrr(network,20,test_loader)\n",
    "print(\"MRR score for Rectified Linear User-based GRU: \",rect_linear_mrr_score)\n",
    "rect_linear_recall_score = validate_recall(network,20,test_loader)\n",
    "print(\"Recall score for Rectified Linear User-based GRU: \",rect_linear_recall_score)"
   ]
  },
  {
   "cell_type": "code",
   "execution_count": 54,
   "metadata": {},
   "outputs": [
    {
     "name": "stdout",
     "output_type": "stream",
     "text": [
      "MRR score for Attentional User-based GRU:  0.06445735\n",
      "Recall score for Attentional User-based GRU:  0.20091988\n"
     ]
    }
   ],
   "source": [
    "att_linear_mrr_score = validate_mrr(network,20,test_loader)\n",
    "print(\"MRR score for Attentional User-based GRU: \",att_linear_mrr_score)\n",
    "att_linear_recall_score = validate_recall(network,20,test_loader)\n",
    "print(\"Recall score for Attentional User-based GRU: \",att_linear_recall_score)"
   ]
  },
  {
   "cell_type": "code",
   "execution_count": 25,
   "metadata": {},
   "outputs": [
    {
     "name": "stdout",
     "output_type": "stream",
     "text": [
      "MRR score for Multi-Head Attentional User-based GRU:  0.054245885\n",
      "Recall score for Multi-Head Attentional User-based GRU:  0.18811351\n"
     ]
    }
   ],
   "source": [
    "mh_att_linear_mrr_score = validate_mrr(network,20,test_loader)\n",
    "print(\"MRR score for Multi-Head Attentional User-based GRU: \",mh_att_linear_mrr_score)\n",
    "mh_att_linear_recall_score = validate_recall(network,20,test_loader)\n",
    "print(\"Recall score for Multi-Head Attentional User-based GRU: \",mh_att_linear_recall_score)"
   ]
  },
  {
   "cell_type": "code",
   "execution_count": 13,
   "metadata": {},
   "outputs": [
    {
     "name": "stdout",
     "output_type": "stream",
     "text": [
      "MRR score for Multi-Head Attentional User-based GRU:  0.062313363\n",
      "Recall score for Multi-Head Attentional User-based GRU:  0.2006795\n"
     ]
    }
   ],
   "source": [
    "mh_att_linear_mrr_score = validate_mrr(network,20,test_loader)\n",
    "print(\"MRR score for Multi-Head Attentional User-based GRU: \",mh_att_linear_mrr_score)\n",
    "mh_att_linear_recall_score = validate_recall(network,20,test_loader)\n",
    "print(\"Recall score for Multi-Head Attentional User-based GRU: \",mh_att_linear_recall_score)"
   ]
  },
  {
   "cell_type": "code",
   "execution_count": 18,
   "metadata": {},
   "outputs": [
    {
     "name": "stdout",
     "output_type": "stream",
     "text": [
      "MRR score for Multi-Head Attentional User-based GRU:  0.062356792\n",
      "Recall score for Multi-Head Attentional User-based GRU:  0.2015281\n"
     ]
    }
   ],
   "source": [
    "mh_att_linear_mrr_score = validate_mrr(network,20,test_loader)\n",
    "print(\"MRR score for Multi-Head Attentional User-based GRU: \",mh_att_linear_mrr_score)\n",
    "mh_att_linear_recall_score = validate_recall(network,20,test_loader)\n",
    "print(\"Recall score for Multi-Head Attentional User-based GRU: \",mh_att_linear_recall_score)"
   ]
  },
  {
   "cell_type": "code",
   "execution_count": null,
   "metadata": {},
   "outputs": [],
   "source": []
  }
 ],
 "metadata": {
  "kernelspec": {
   "display_name": "Python 3",
   "language": "python",
   "name": "python3"
  },
  "language_info": {
   "codemirror_mode": {
    "name": "ipython",
    "version": 3
   },
   "file_extension": ".py",
   "mimetype": "text/x-python",
   "name": "python",
   "nbconvert_exporter": "python",
   "pygments_lexer": "ipython3",
   "version": "3.5.2"
  }
 },
 "nbformat": 4,
 "nbformat_minor": 2
}
